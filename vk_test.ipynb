{
  "cells": [
    {
      "cell_type": "code",
      "execution_count": null,
      "metadata": {
        "colab": {
          "base_uri": "https://localhost:8080/"
        },
        "id": "-l2rDFJ23w2w",
        "outputId": "ab682ba1-506e-4638-f90f-0c9aaa080cfa"
      },
      "outputs": [
        {
          "output_type": "stream",
          "name": "stdout",
          "text": [
            "Mounted at /content/drive\n"
          ]
        }
      ],
      "source": [
        "import os\n",
        "from google.colab import drive\n",
        "drive.mount('/content/drive')"
      ]
    },
    {
      "cell_type": "code",
      "source": [
        "!pip install catboost"
      ],
      "metadata": {
        "id": "rHXpP1WMEzbg"
      },
      "execution_count": null,
      "outputs": []
    },
    {
      "cell_type": "code",
      "execution_count": null,
      "metadata": {
        "id": "7PuVYSYh-Y-1"
      },
      "outputs": [],
      "source": [
        "from collections import defaultdict\n",
        "import pandas as pnd\n",
        "from tqdm.notebook import tqdm\n",
        "import networkx as nx\n",
        "import numpy as np\n",
        "import pandas as pd\n",
        "from collections import Counter\n",
        "from scipy.sparse import csr_matrix\n",
        "from sklearn.metrics import mean_squared_error\n",
        "from scipy.sparse.csgraph import connected_components"
      ]
    },
    {
      "cell_type": "code",
      "execution_count": null,
      "metadata": {
        "colab": {
          "base_uri": "https://localhost:8080/"
        },
        "id": "d0xOS8RS3zlN",
        "outputId": "d0d70782-0805-4382-b3c0-97a18d884a52"
      },
      "outputs": [
        {
          "output_type": "execute_result",
          "data": {
            "text/plain": [
              "0"
            ]
          },
          "metadata": {},
          "execution_count": 3
        }
      ],
      "source": [
        "os.system(' cp \"drive/My Drive/train_dataset_VK.zip\" \"train_dataset_VK.zip\" ')\n",
        "os.system(' unzip train_dataset_VK.zip' )"
      ]
    },
    {
      "cell_type": "code",
      "execution_count": null,
      "metadata": {
        "id": "JOWxV2-UnrOO"
      },
      "outputs": [],
      "source": [
        "test = pd.read_csv('test.csv')"
      ]
    },
    {
      "cell_type": "code",
      "execution_count": null,
      "metadata": {
        "id": "e7JRriWLphJO"
      },
      "outputs": [],
      "source": [
        "indd = np.split(test.index.values, np.unique(test['ego_id'].values, return_index=True)[1][1:])"
      ]
    },
    {
      "cell_type": "code",
      "execution_count": null,
      "metadata": {
        "id": "HtWQUYpcVFPN",
        "colab": {
          "base_uri": "https://localhost:8080/",
          "height": 49,
          "referenced_widgets": [
            "ef00d94ed62046e0a181015c305e5b70",
            "d5df7965feab4a50bd66906eddb4cfa7",
            "63087e9c9c6b458e83c8377a92ff2117",
            "1872c619b050465985d0b25ca97ef37b",
            "1b63acdb7d1a4dff8d45dbe88fffe5bb",
            "8430b230976b4fecae472ad38b1f3b8c",
            "c5639654b9f74191bcb479d571c7523c",
            "4deec4f7f91f42f68fc2836eedd2e3e3",
            "d450b2c3761948eca8f1cda155a5f701",
            "320c14c270fc4a879b3a1bfe3ab38b87",
            "2c5d8ee7c96d4588b5540b50f3ee42d9"
          ]
        },
        "outputId": "549136da-07e3-4143-c87d-537e63377bc6"
      },
      "outputs": [
        {
          "output_type": "display_data",
          "data": {
            "text/plain": [
              "  0%|          | 0/20596 [00:00<?, ?it/s]"
            ],
            "application/vnd.jupyter.widget-view+json": {
              "version_major": 2,
              "version_minor": 0,
              "model_id": "ef00d94ed62046e0a181015c305e5b70"
            }
          },
          "metadata": {}
        }
      ],
      "source": [
        "xxx = test.ego_id.unique()\n",
        "tk0 = tqdm(enumerate(xxx), total = len(xxx))\n",
        "list_feats1 = []\n",
        "list_feats2 = []\n",
        "list_feats3 = []\n",
        "list_feats4 = []\n",
        "list_feats5 = []\n",
        "list_feats6 = []\n",
        "list_feats7 = []\n",
        "list_feats8 = []\n",
        "list_feats9 = []\n",
        "list_feats10 = []\n",
        "\n",
        "list_preds = []\n",
        "list_true = []\n",
        "for i, num_ in tk0:\n",
        "    tmp_df = test.loc[indd[i], :]\n",
        "    tmp_train_df = tmp_df[~tmp_df.x1.isnull()]\n",
        "\n",
        "    tmp_train_df = tmp_train_df[tmp_train_df.x1 > tmp_train_df.x1.mean() * 0.8]\n",
        "\n",
        "    tmp_val_df = tmp_df[tmp_df.x1.isnull()]\n",
        "\n",
        "    ind1 = tmp_train_df['u'].tolist() + tmp_train_df['v'].tolist()\n",
        "    ind2 = tmp_train_df['v'].tolist() + tmp_train_df['u'].tolist()\n",
        "    val  = tmp_train_df['x1'].tolist() + tmp_train_df['x1'].tolist()\n",
        "\n",
        "    mx = max(tmp_df['u'].max(), tmp_df['v'].max())\n",
        "\n",
        "\n",
        "    friend_matrix = csr_matrix((val, (ind1, ind2)), \n",
        "                            shape=(mx + 1, mx + 1))\n",
        "    \n",
        "    sums = friend_matrix.T.sum(axis=1).A1\n",
        "    counts = np.diff(friend_matrix.indptr)\n",
        "    averages = np.divide(sums, counts, out=np.zeros_like(sums), where=counts!=0) * 0.5\n",
        "\n",
        "    sums = friend_matrix.sum(axis=1).A1\n",
        "    counts = np.diff(friend_matrix.T.indptr)\n",
        "    averages_add = np.divide(sums, counts, out=np.zeros_like(sums), where=counts!=0) * 0.5\n",
        "\n",
        "    friend_matrix = csr_matrix(friend_matrix.multiply(friend_matrix > averages))\n",
        "    friend_matrix.eliminate_zeros()\n",
        "\n",
        "    friend_matrix_ones = friend_matrix.copy()\n",
        "    friend_matrix_ones.data = np.ones(len(friend_matrix_ones.data))\n",
        "    \n",
        "\n",
        "    mult_ones1 = friend_matrix_ones * friend_matrix_ones.T\n",
        "    mult1 = (friend_matrix * friend_matrix_ones.T) \n",
        "    i1, i2 = mult1.nonzero()\n",
        "    a = mult1.data\n",
        "    b = np.array(mult_ones1[i1, i2])[0] \n",
        "    mult1.data = np.divide(a, b, out=np.zeros_like(a), where=b!=0)\n",
        "    val_ind1 = tmp_val_df['u'].values\n",
        "    val_ind2 = tmp_val_df['v'].values\n",
        "    # val_val  = tmp_val_df['target'].values\n",
        "    # preds1 = (mult1[val_ind1, val_ind2] + mult1[val_ind2, val_ind1] ) / 2\n",
        "    \n",
        "    mult_ones2 = friend_matrix_ones.T * friend_matrix_ones\n",
        "    mult2 = (friend_matrix.T * friend_matrix_ones) \n",
        "    i1, i2 = mult2.nonzero()\n",
        "    a = mult2.data\n",
        "    b = np.array(mult_ones2[i1, i2])[0] \n",
        "    mult2.data = np.divide(a, b, out=np.zeros_like(a), where=b!=0)\n",
        "    val_ind1 = tmp_val_df['u'].values\n",
        "    val_ind2 = tmp_val_df['v'].values\n",
        "    # val_val  = tmp_val_df['target'].values\n",
        "    # preds2 = (mult2[val_ind1, val_ind2] + mult2[val_ind2, val_ind1] ) / 2\n",
        "\n",
        "    list_feats1 += mult1[val_ind1, val_ind2].tolist()[0]\n",
        "    list_feats2 += mult2[val_ind1, val_ind2].tolist()[0]\n",
        "\n",
        "    list_feats3 += mult1[val_ind2, val_ind1].tolist()[0]\n",
        "    list_feats4 += mult2[val_ind2, val_ind1].tolist()[0]\n",
        "\n",
        "    list_feats5 += mult_ones1[val_ind1, val_ind2].tolist()[0]\n",
        "    list_feats6 += tmp_val_df.index.tolist()\n",
        "\n",
        "    list_feats7 += averages[val_ind1].tolist()\n",
        "    list_feats8 += averages[val_ind2].tolist()\n",
        "\n",
        "    list_feats9 += averages_add[val_ind1].tolist()\n",
        "    list_feats10 += averages_add[val_ind2].tolist()\n",
        "    # preds = (preds1 + preds2) / 2\n",
        "    # list_true += val_val.tolist()\n",
        "    # list_preds += (np.array(preds)[0] ).tolist()"
      ]
    },
    {
      "cell_type": "code",
      "source": [
        "import pickle\n",
        "with open('drive/MyDrive/vkfeats1test.pickle', 'wb') as f:\n",
        "    pickle.dump([list_feats1, list_feats2, list_feats3, list_feats4, list_feats5, list_feats6, list_feats7, list_feats8, list_feats9, list_feats10], f)"
      ],
      "metadata": {
        "id": "eNuO0F6SwgQL"
      },
      "execution_count": null,
      "outputs": []
    },
    {
      "cell_type": "code",
      "source": [
        "# len(list_feats1)"
      ],
      "metadata": {
        "id": "v9Gt3UlCOLKf"
      },
      "execution_count": null,
      "outputs": []
    },
    {
      "cell_type": "code",
      "source": [
        "xxx = test.ego_id.unique()\n",
        "tk0 = tqdm(enumerate(xxx), total = len(xxx))\n",
        "list_feats1 = []\n",
        "list_feats2 = []\n",
        "list_feats3 = []\n",
        "list_feats4 = []\n",
        "list_feats5 = []\n",
        "list_feats6 = []\n",
        "list_feats7 = []\n",
        "list_feats8 = []\n",
        "list_feats9 = []\n",
        "list_feats10 = []\n",
        "\n",
        "list_preds = []\n",
        "list_true = []\n",
        "for i, num_ in tk0:\n",
        "    tmp_df = test.loc[indd[i], :]\n",
        "    tmp_train_df = tmp_df[~tmp_df.x1.isnull()]\n",
        "\n",
        "    # tmp_train_df = tmp_train_df[tmp_train_df.x1 > tmp_train_df.x1.mean() * 0.8]\n",
        "\n",
        "    tmp_val_df = tmp_df[tmp_df.x1.isnull()]\n",
        "\n",
        "    ind1 = tmp_train_df['u'].tolist() + tmp_train_df['v'].tolist()\n",
        "    ind2 = tmp_train_df['v'].tolist() + tmp_train_df['u'].tolist()\n",
        "    val  = tmp_train_df['x1'].tolist() + tmp_train_df['x1'].tolist()\n",
        "\n",
        "    mx = max(tmp_df['u'].max(), tmp_df['v'].max())\n",
        "\n",
        "\n",
        "    friend_matrix = csr_matrix((val, (ind1, ind2)), \n",
        "                            shape=(mx + 1, mx + 1))\n",
        "    \n",
        "    sums = friend_matrix.T.sum(axis=1).A1\n",
        "    counts = np.diff(friend_matrix.indptr)\n",
        "    averages = np.divide(sums, counts, out=np.zeros_like(sums), where=counts!=0) * 0.5\n",
        "\n",
        "    sums = friend_matrix.sum(axis=1).A1\n",
        "    counts = np.diff(friend_matrix.T.indptr)\n",
        "    averages_add = np.divide(sums, counts, out=np.zeros_like(sums), where=counts!=0) * 0.5\n",
        "\n",
        "    # friend_matrix = csr_matrix(friend_matrix.multiply(friend_matrix > averages))\n",
        "    # friend_matrix.eliminate_zeros()\n",
        "\n",
        "    friend_matrix_ones = friend_matrix.copy()\n",
        "    friend_matrix_ones.data = np.ones(len(friend_matrix_ones.data))\n",
        "    \n",
        "\n",
        "    mult_ones1 = friend_matrix_ones * friend_matrix_ones.T\n",
        "    mult1 = (friend_matrix * friend_matrix_ones.T) \n",
        "    i1, i2 = mult1.nonzero()\n",
        "    a = mult1.data\n",
        "    b = np.array(mult_ones1[i1, i2])[0] \n",
        "    mult1.data = np.divide(a, b, out=np.zeros_like(a), where=b!=0)\n",
        "    val_ind1 = tmp_val_df['u'].values\n",
        "    val_ind2 = tmp_val_df['v'].values\n",
        "    # val_val  = tmp_val_df['target'].values\n",
        "    # preds1 = (mult1[val_ind1, val_ind2] + mult1[val_ind2, val_ind1] ) / 2\n",
        "    \n",
        "    mult_ones2 = friend_matrix_ones.T * friend_matrix_ones\n",
        "    mult2 = (friend_matrix.T * friend_matrix_ones) \n",
        "    i1, i2 = mult2.nonzero()\n",
        "    a = mult2.data\n",
        "    b = np.array(mult_ones2[i1, i2])[0] \n",
        "    mult2.data = np.divide(a, b, out=np.zeros_like(a), where=b!=0)\n",
        "    val_ind1 = tmp_val_df['u'].values\n",
        "    val_ind2 = tmp_val_df['v'].values\n",
        "    # val_val  = tmp_val_df['target'].values\n",
        "    # preds2 = (mult2[val_ind1, val_ind2] + mult2[val_ind2, val_ind1] ) / 2\n",
        "\n",
        "    list_feats1 += mult1[val_ind1, val_ind2].tolist()[0]\n",
        "    list_feats2 += mult2[val_ind1, val_ind2].tolist()[0]\n",
        "\n",
        "    list_feats3 += mult1[val_ind2, val_ind1].tolist()[0]\n",
        "    list_feats4 += mult2[val_ind2, val_ind1].tolist()[0]\n",
        "\n",
        "    list_feats5 += mult_ones1[val_ind1, val_ind2].tolist()[0]\n",
        "    list_feats6 += tmp_val_df.index.tolist()\n",
        "\n",
        "    list_feats7 += averages[val_ind1].tolist()\n",
        "    list_feats8 += averages[val_ind2].tolist()\n",
        "\n",
        "    list_feats9 += averages_add[val_ind1].tolist()\n",
        "    list_feats10 += averages_add[val_ind2].tolist()\n",
        "    # preds = (preds1 + preds2) / 2\n",
        "    # list_true += val_val.tolist()\n",
        "    # list_preds += (np.array(preds)[0] ).tolist()"
      ],
      "metadata": {
        "id": "PedYdcdbwgS3",
        "colab": {
          "base_uri": "https://localhost:8080/",
          "height": 49,
          "referenced_widgets": [
            "911a51c1d3ec4e0aa4339e5b3a789e7a",
            "41539b5d22d64125a44b3926c9f40873",
            "c0aae5ef2a214a7ca8662a1d1b64a60f",
            "8c1a365aed60487784a26d3667ad1bae",
            "b8ac6f0e353c477b99136e58b48a763e",
            "8588610f20f74268ad04335d3be198c1",
            "a6d7c95539f3450eaddb154ed79a199a",
            "0c92602721854b8993cf7bb34b6ba2cd",
            "1e34946ffa634a82812187f1a0814e6b",
            "a4be5e2db61f4a478b974f4d5816a8a8",
            "c3aa5149063a42049a5c9a7ff79d01c5"
          ]
        },
        "outputId": "0c161fc1-0d28-4fea-92a3-71b0f56cb0f4"
      },
      "execution_count": null,
      "outputs": [
        {
          "output_type": "display_data",
          "data": {
            "text/plain": [
              "  0%|          | 0/20596 [00:00<?, ?it/s]"
            ],
            "application/vnd.jupyter.widget-view+json": {
              "version_major": 2,
              "version_minor": 0,
              "model_id": "911a51c1d3ec4e0aa4339e5b3a789e7a"
            }
          },
          "metadata": {}
        }
      ]
    },
    {
      "cell_type": "code",
      "source": [
        "import pickle\n",
        "with open('drive/MyDrive/vkfeats2test.pickle', 'wb') as f:\n",
        "    pickle.dump([list_feats1, list_feats2, list_feats3, list_feats4, list_feats5, list_feats6, list_feats7, list_feats8, list_feats9, list_feats10], f)"
      ],
      "metadata": {
        "id": "UfItG10twgWz"
      },
      "execution_count": null,
      "outputs": []
    },
    {
      "cell_type": "code",
      "source": [
        "xxx = test.ego_id.unique()\n",
        "tk0 = tqdm(enumerate(xxx), total = len(xxx))\n",
        "list_feats1 = []\n",
        "\n",
        "list_preds = []\n",
        "list_true = []\n",
        "for i, num_ in tk0:\n",
        "    tmp_df = test.loc[indd[i], :]\n",
        "    tmp_train_df = tmp_df[~tmp_df.x1.isnull()]\n",
        "\n",
        "    # tmp_train_df = tmp_train_df[tmp_train_df.x1 > tmp_train_df.x1.mean() * 0.8]\n",
        "\n",
        "    tmp_val_df = tmp_df[tmp_df.x1.isnull()]\n",
        "\n",
        "    ind1 = tmp_train_df['u'].tolist() \n",
        "    ind2 = tmp_train_df['v'].tolist() \n",
        "    val  = (tmp_train_df['x1'] + 1).tolist() \n",
        "\n",
        "    mx = max(tmp_df['u'].max(), tmp_df['v'].max())\n",
        "\n",
        "\n",
        "    friend_matrix = csr_matrix((val, (ind1, ind2)), \n",
        "                            shape=(mx + 1, mx + 1))\n",
        "    \n",
        "    val_ind1 = tmp_val_df['u'].values\n",
        "    val_ind2 = tmp_val_df['v'].values\n",
        "\n",
        "    list_feats1 += friend_matrix[val_ind2, val_ind1].tolist()[0]"
      ],
      "metadata": {
        "id": "uJ4QOX1Rwbeq",
        "colab": {
          "base_uri": "https://localhost:8080/",
          "height": 49,
          "referenced_widgets": [
            "3bab2c7877934a8da07ad9cdf36c0462",
            "c4d115b1f4b04ec5bfcc0a89a2332166",
            "27fecd8be76d49479b3aefa8378df7a1",
            "54a2d77dfbfa416b8c4642a4acb2478e",
            "eca6ff2108094736af65c3872b2915e7",
            "7d5a09cf970f4c90975f33c0ae71aed8",
            "42d9baa0da494a91b6d34a9ccce78c24",
            "ab26a28263e948d296c29c1d74b7784b",
            "01068eea60fa45ec85b97e6f1667860f",
            "35db444202d54067a27e58adfe33ae8a",
            "e996be5367fd47c99fde69f68903bdb9"
          ]
        },
        "outputId": "9753b9c8-1970-47c6-b33d-49c1539eaec8"
      },
      "execution_count": null,
      "outputs": [
        {
          "output_type": "display_data",
          "data": {
            "text/plain": [
              "  0%|          | 0/20596 [00:00<?, ?it/s]"
            ],
            "application/vnd.jupyter.widget-view+json": {
              "version_major": 2,
              "version_minor": 0,
              "model_id": "3bab2c7877934a8da07ad9cdf36c0462"
            }
          },
          "metadata": {}
        }
      ]
    },
    {
      "cell_type": "code",
      "source": [
        "import pickle\n",
        "with open('drive/MyDrive/vkfeats3test.pickle', 'wb') as f:\n",
        "    pickle.dump([list_feats1], f)"
      ],
      "metadata": {
        "id": "D6CTX3Y8wbhh"
      },
      "execution_count": null,
      "outputs": []
    },
    {
      "cell_type": "code",
      "source": [
        "xxx = test.ego_id.unique()\n",
        "tk0 = tqdm(enumerate(xxx), total = len(xxx))\n",
        "list_feats1 = []\n",
        "list_feats2 = []\n",
        "\n",
        "list_preds = []\n",
        "list_true = []\n",
        "for i, num_ in tk0:\n",
        "    tmp_df = test.loc[indd[i], :]\n",
        "    tmp_train_df = tmp_df[~tmp_df.x1.isnull()]\n",
        "\n",
        "    # tmp_train_df = tmp_train_df[tmp_train_df.x1 > tmp_train_df.x1.mean() * 0.8]\n",
        "\n",
        "    tmp_val_df = tmp_df[tmp_df.x1.isnull()]\n",
        "\n",
        "    ind1 = tmp_train_df['u'].tolist() \n",
        "    ind2 = tmp_train_df['v'].tolist() \n",
        "    val  = (tmp_train_df['x1'] + 1).tolist() \n",
        "\n",
        "    mx = max(tmp_df['u'].max(), tmp_df['v'].max())\n",
        "\n",
        "\n",
        "    friend_matrix = csr_matrix((val, (ind1, ind2)), \n",
        "                            shape=(mx + 1, mx + 1))\n",
        "    \n",
        "    val_ind1 = tmp_val_df['u'].values\n",
        "    val_ind2 = tmp_val_df['v'].values\n",
        "\n",
        "    ind_wo0 = zip(ind1, ind2, val)\n",
        "    ind_wo0 = [(value1, value2, value3) for value1, value2, value3 in ind_wo0 if value1 != 0 and value2 != 0]\n",
        "    ind_wo0 = list(zip(*ind_wo0))\n",
        "    try:\n",
        "        friend_matrix_wo0 = csr_matrix((ind_wo0[2], (ind_wo0[0], ind_wo0[1])), \n",
        "                                shape=(mx + 1, mx + 1))\n",
        "        \n",
        "        n_comps, labels = connected_components(csgraph=friend_matrix_wo0, directed=True, return_labels=True)\n",
        "        n_comps -= 1 # remove self\n",
        "        cnt = Counter(labels)\n",
        "        labels = np.array([cnt[l] for l in labels])\n",
        "\n",
        "    except:\n",
        "        labels = np.ones(mx + 1)\n",
        "\n",
        "    val_ind1 = tmp_val_df['u'].values\n",
        "    val_ind2 = tmp_val_df['v'].values\n",
        "\n",
        "\n",
        "    list_feats1 += labels[val_ind1].tolist()\n",
        "    list_feats2 += labels[val_ind2].tolist()"
      ],
      "metadata": {
        "colab": {
          "base_uri": "https://localhost:8080/",
          "height": 49,
          "referenced_widgets": [
            "ab3951ded4064adfb433d0d6c38daf25",
            "2e6e80c3d3964780b5d6110f5273a8b8",
            "7031c69f612341779965adc8ba35b04c",
            "ec53b8fad9d24ccfaaf080df09c0d0b3",
            "9d3d2b598b344412929424dec41a159f",
            "015fd17db4a84692bd56f53d0e84dc4a",
            "9c8297f70f6a4ad884eef90acd81f779",
            "cfa99ec88302436c975a02cec9cc5a12",
            "51c341f40a424a08944731ab6d771774",
            "2c98a0b6b2864c64bdde48008938660e",
            "30b09969afec4ae4a9541abba98f67c4"
          ]
        },
        "id": "vIkQx5YEFWdf",
        "outputId": "fc1f1bcd-a386-497b-a97f-195535118c2e"
      },
      "execution_count": null,
      "outputs": [
        {
          "output_type": "display_data",
          "data": {
            "text/plain": [
              "  0%|          | 0/20596 [00:00<?, ?it/s]"
            ],
            "application/vnd.jupyter.widget-view+json": {
              "version_major": 2,
              "version_minor": 0,
              "model_id": "ab3951ded4064adfb433d0d6c38daf25"
            }
          },
          "metadata": {}
        }
      ]
    },
    {
      "cell_type": "code",
      "source": [
        "import pickle\n",
        "with open('drive/MyDrive/vkfeats4test.pickle', 'wb') as f:\n",
        "    pickle.dump([list_feats1, list_feats2], f)"
      ],
      "metadata": {
        "id": "bgnwe0guVjZk"
      },
      "execution_count": null,
      "outputs": []
    },
    {
      "cell_type": "code",
      "source": [
        "xxx = test.ego_id.unique()\n",
        "tk0 = tqdm(enumerate(xxx), total = len(xxx))\n",
        "list_feats1 = []\n",
        "list_feats2 = []\n",
        "list_feats3 = []\n",
        "list_feats4 = []\n",
        "list_feats5 = []\n",
        "list_feats6 = []\n",
        "\n",
        "list_preds = []\n",
        "list_true = []\n",
        "for i, num_ in tk0:\n",
        "    tmp_df = test.loc[indd[i], :]\n",
        "    tmp_train_df = tmp_df[~tmp_df.x1.isnull()]\n",
        "\n",
        "    # tmp_train_df = tmp_train_df[tmp_train_df.x1 > tmp_train_df.x1.mean() * 0.8]\n",
        "\n",
        "    tmp_val_df = tmp_df[tmp_df.x1.isnull()]\n",
        "\n",
        "    ind1 = tmp_train_df['u'].tolist() \n",
        "    ind2 = tmp_train_df['v'].tolist() \n",
        "    val  = (tmp_train_df['x1'] ).tolist() \n",
        "\n",
        "    mx = max(tmp_df['u'].max(), tmp_df['v'].max())\n",
        "\n",
        "\n",
        "    friend_matrix = csr_matrix((val, (ind1, ind2)), \n",
        "                            shape=(mx + 1, mx + 1))\n",
        "    \n",
        "    friend_matrix_ones = friend_matrix.copy()\n",
        "    friend_matrix_ones.data = np.ones(len(friend_matrix_ones.data))\n",
        "\n",
        "    sm = friend_matrix_ones.sum(0).A1\n",
        "\n",
        "    val_ind1 = tmp_val_df['u'].values\n",
        "    val_ind2 = tmp_val_df['v'].values\n",
        "\n",
        "    max_ = friend_matrix.max(0).toarray()[0]\n",
        "\n",
        "    list_feats1 += max_[val_ind1].tolist()\n",
        "    list_feats2 += max_[val_ind2].tolist()\n",
        "\n",
        "    max_ = friend_matrix.T.max(0).toarray()[0]\n",
        "\n",
        "    list_feats3 += max_[val_ind1].tolist()\n",
        "    list_feats4 += max_[val_ind2].tolist()\n",
        "\n",
        "    list_feats5 += sm[val_ind1].tolist()\n",
        "    list_feats6 += sm[val_ind2].tolist()"
      ],
      "metadata": {
        "id": "cgEO00IhWQFB",
        "colab": {
          "base_uri": "https://localhost:8080/",
          "height": 49,
          "referenced_widgets": [
            "cdf4ac94acce42219ed769abebdcf06f",
            "a23796d84e204d76801e4732f0ee5e95",
            "72a5bf140bda43b8a1c6df18993ab3f6",
            "2d2cce71af834cf998cef853b6d7b761",
            "29799c8356514cfda2e8a440d1e85beb",
            "98aa5a0b335749bcb59e1620660534bf",
            "59d555c1de1145c2b184767422dfb703",
            "5e3638cd9e0240f99e803612148473bc",
            "60176659d86f498f90a4bbe2589ecf63",
            "b3aba38449324254932626bb3e6056af",
            "6c5aff2fb7c54d63b0ae6831b3cac83f"
          ]
        },
        "outputId": "0984f7dd-0a2c-456f-a525-4d9330da9cb5"
      },
      "execution_count": null,
      "outputs": [
        {
          "output_type": "display_data",
          "data": {
            "text/plain": [
              "  0%|          | 0/20596 [00:00<?, ?it/s]"
            ],
            "application/vnd.jupyter.widget-view+json": {
              "version_major": 2,
              "version_minor": 0,
              "model_id": "cdf4ac94acce42219ed769abebdcf06f"
            }
          },
          "metadata": {}
        }
      ]
    },
    {
      "cell_type": "code",
      "source": [
        "import pickle\n",
        "with open('drive/MyDrive/vkfeats5test.pickle', 'wb') as f:\n",
        "    pickle.dump([list_feats1, list_feats2, list_feats3, list_feats4, list_feats5, list_feats6], f)"
      ],
      "metadata": {
        "id": "E_A2yJweK71I"
      },
      "execution_count": null,
      "outputs": []
    },
    {
      "cell_type": "code",
      "source": [],
      "metadata": {
        "id": "tOu07NnnK_hD"
      },
      "execution_count": null,
      "outputs": []
    },
    {
      "cell_type": "code",
      "source": [
        "with open('drive/MyDrive/vkfeats1test.pickle', 'rb') as f:\n",
        "    list_feats1, list_feats2, list_feats3, list_feats4, list_feats5, list_feats6, list_feats7, list_feats8, list_feats9, list_feats10 = pickle.load(f)\n",
        "\n",
        "i = 0\n",
        "for l in [list_feats1, list_feats2, list_feats3, list_feats4, list_feats5, list_feats7, list_feats8, list_feats9, list_feats10]:\n",
        "    test[f'feat_{i}'] = l\n",
        "    i += 1\n",
        "\n",
        "with open('drive/MyDrive/vkfeats2test.pickle', 'rb') as f:\n",
        "    list_feats1, list_feats2, list_feats3, list_feats4, list_feats5, list_feats6, list_feats7, list_feats8, list_feats9, list_feats10 = pickle.load(f)\n",
        "    \n",
        "for l in [list_feats1, list_feats2, list_feats3, list_feats4, list_feats5, list_feats7, list_feats8, list_feats9, list_feats10]:\n",
        "    test[f'feat_{i}'] = l\n",
        "    i += 1\n",
        "\n",
        "with open('drive/MyDrive/vkfeats3test.pickle', 'rb') as f:\n",
        "    [list_feats1] = pickle.load(f)\n",
        "    \n",
        "for l in [list_feats1]:\n",
        "    test[f'feat_{i}'] = l\n",
        "    i += 1"
      ],
      "metadata": {
        "id": "wDrWx_yU4SkL"
      },
      "execution_count": null,
      "outputs": []
    },
    {
      "cell_type": "code",
      "source": [
        "i = 25\n",
        "with open('drive/MyDrive/vkfeats4test.pickle', 'rb') as f:\n",
        "    [list_feats1, list_feats2] = pickle.load(f)\n",
        "    \n",
        "for l in [list_feats1, list_feats2]:\n",
        "    test[f'feat_{i}'] = l\n",
        "    i += 1\n",
        "\n",
        "test[f'feat_35'] =  test[f'feat_25'] -  test[f'feat_26']\n",
        "\n",
        "i = 45\n",
        "with open('drive/MyDrive/vkfeats5test.pickle', 'rb') as f:\n",
        "    [list_feats1, list_feats2, list_feats3, list_feats4, list_feats5, list_feats6] = pickle.load(f)\n",
        "    \n",
        "for l in [list_feats1, list_feats2, list_feats3, list_feats4, list_feats5, list_feats6]:\n",
        "    test[f'feat_{i}'] = l\n",
        "    i += 1"
      ],
      "metadata": {
        "id": "aZALNNqL4VE0"
      },
      "execution_count": null,
      "outputs": []
    },
    {
      "cell_type": "code",
      "source": [
        "attr = pd.read_csv('attr.csv')"
      ],
      "metadata": {
        "id": "dEIIg-1e4jnC"
      },
      "execution_count": null,
      "outputs": []
    },
    {
      "cell_type": "code",
      "source": [
        "ss = pd.read_csv('submission.csv')\n",
        "ss['subm'] = 1"
      ],
      "metadata": {
        "id": "lWXZNH4i4X70"
      },
      "execution_count": null,
      "outputs": []
    },
    {
      "cell_type": "code",
      "source": [
        "test = test.merge(ss[['ego_id', 'u', 'v',  'subm']], on = ['ego_id', 'u', 'v'], how = 'left')\n",
        "test = test[~test.subm.isnull()].reset_index(drop = True)"
      ],
      "metadata": {
        "id": "DxamZbie4buN"
      },
      "execution_count": null,
      "outputs": []
    },
    {
      "cell_type": "code",
      "source": [
        "test = test.merge(attr[['ego_id', 'u', 'age', 'sex']], on = ['ego_id', 'u'], how = 'left')\n",
        "test = test.merge(attr[['ego_id', 'u', 'age', 'sex']], left_on = ['ego_id', 'v'], right_on = ['ego_id', 'u'], how = 'left',  suffixes=('_u', '_v'))"
      ],
      "metadata": {
        "id": "OhKKvGuv4ev_"
      },
      "execution_count": null,
      "outputs": []
    },
    {
      "cell_type": "code",
      "source": [
        "test['f3'] = test['feat_0'] + test['feat_1'] + test['feat_2'] + test['feat_3']"
      ],
      "metadata": {
        "id": "qCqnepCL4pED"
      },
      "execution_count": null,
      "outputs": []
    },
    {
      "cell_type": "code",
      "source": [
        "train_cols = ['t', 'x2', 'x3', 'feat_0', 'feat_1', 'feat_2', 'feat_3', 'feat_4', 'feat_5', 'feat_6', 'feat_7', 'feat_8', 'feat_9', 'feat_10', 'feat_11', 'feat_12', 'feat_13', 'feat_14', 'feat_15', 'feat_16', 'feat_17', 'feat_18', 'feat_25', 'feat_26', 'feat_35', 'feat_45', 'feat_46', 'feat_47', 'feat_48', 'feat_49', 'feat_50', 'age_u', 'sex_u', 'age_v', 'sex_v', 'f3']"
      ],
      "metadata": {
        "id": "NBcmNABD4tFU"
      },
      "execution_count": null,
      "outputs": []
    },
    {
      "cell_type": "code",
      "source": [
        "import pickle\n",
        "with open('drive/MyDrive/vkbst.pickle', 'wb') as f:\n",
        "    bst_list = pickle.load(f)"
      ],
      "metadata": {
        "id": "e5pfeIf88bet"
      },
      "execution_count": null,
      "outputs": []
    },
    {
      "cell_type": "code",
      "source": [
        "bst_list = []\n",
        "score_list = []\n",
        "preds = []\n",
        "# preds_train = np.zeros(len(train))\n",
        "for i, bst in enumerate(bst_list):\n",
        "    # pool_train = Pool(train.loc[train_index, train_cols].values, label= train.loc[train_index, 'target'].values)\n",
        "    # pool_eval = Pool(train.loc[test_index, train_cols].values, label= train.loc[test_index, 'target'].values )\n",
        "    # bst = catboost.train(pool_train, params_cat, eval_set = pool_eval, iterations = 2000, early_stopping_rounds = 800, verbose = 100)\n",
        "    # score_list += [bst.get_best_score()['validation']['RMSE']]\n",
        "    # preds_train[test_index] = bst.predict(train[train_cols][test_index].values) ** 2\n",
        "    preds += [bst.predict(test[train_cols].values)]\n",
        "    # bst_list += [bst]"
      ],
      "metadata": {
        "id": "7w__Ts7c4z0z"
      },
      "execution_count": null,
      "outputs": []
    },
    {
      "cell_type": "code",
      "source": [
        "test['predict'] = np.mean(preds, 0)"
      ],
      "metadata": {
        "id": "YzQfWa067kIz"
      },
      "execution_count": null,
      "outputs": []
    },
    {
      "cell_type": "code",
      "source": [
        "predict_ss = test.groupby(['ego_id', 'u_u', 'v'])['predict'].mean().reset_index()"
      ],
      "metadata": {
        "id": "5SQH30D07kL9"
      },
      "execution_count": null,
      "outputs": []
    },
    {
      "cell_type": "code",
      "source": [
        "ss = ss.merge(predict_ss, left_on = ['ego_id', 'u', 'v'], right_on = ['ego_id', 'u_u', 'v'], how = 'left')\n",
        "ss['x1'] = ss['predict']"
      ],
      "metadata": {
        "id": "BRoJahui7mG8"
      },
      "execution_count": null,
      "outputs": []
    },
    {
      "cell_type": "code",
      "source": [
        "ss[['ego_id', 'u', 'v', 'x1']].to_csv('predict.csv', index = None)"
      ],
      "metadata": {
        "id": "5bXQ7LGz7mKD"
      },
      "execution_count": null,
      "outputs": []
    },
    {
      "cell_type": "code",
      "source": [],
      "metadata": {
        "id": "OTROrY1f7mMu"
      },
      "execution_count": null,
      "outputs": []
    },
    {
      "cell_type": "code",
      "source": [],
      "metadata": {
        "id": "UjdpZMVx7mPq"
      },
      "execution_count": null,
      "outputs": []
    }
  ],
  "metadata": {
    "colab": {
      "machine_shape": "hm",
      "provenance": []
    },
    "gpuClass": "standard",
    "kernelspec": {
      "display_name": "Python 3",
      "name": "python3"
    },
    "language_info": {
      "name": "python"
    },
    "widgets": {
      "application/vnd.jupyter.widget-state+json": {
        "ef00d94ed62046e0a181015c305e5b70": {
          "model_module": "@jupyter-widgets/controls",
          "model_name": "HBoxModel",
          "model_module_version": "1.5.0",
          "state": {
            "_dom_classes": [],
            "_model_module": "@jupyter-widgets/controls",
            "_model_module_version": "1.5.0",
            "_model_name": "HBoxModel",
            "_view_count": null,
            "_view_module": "@jupyter-widgets/controls",
            "_view_module_version": "1.5.0",
            "_view_name": "HBoxView",
            "box_style": "",
            "children": [
              "IPY_MODEL_d5df7965feab4a50bd66906eddb4cfa7",
              "IPY_MODEL_63087e9c9c6b458e83c8377a92ff2117",
              "IPY_MODEL_1872c619b050465985d0b25ca97ef37b"
            ],
            "layout": "IPY_MODEL_1b63acdb7d1a4dff8d45dbe88fffe5bb"
          }
        },
        "d5df7965feab4a50bd66906eddb4cfa7": {
          "model_module": "@jupyter-widgets/controls",
          "model_name": "HTMLModel",
          "model_module_version": "1.5.0",
          "state": {
            "_dom_classes": [],
            "_model_module": "@jupyter-widgets/controls",
            "_model_module_version": "1.5.0",
            "_model_name": "HTMLModel",
            "_view_count": null,
            "_view_module": "@jupyter-widgets/controls",
            "_view_module_version": "1.5.0",
            "_view_name": "HTMLView",
            "description": "",
            "description_tooltip": null,
            "layout": "IPY_MODEL_8430b230976b4fecae472ad38b1f3b8c",
            "placeholder": "​",
            "style": "IPY_MODEL_c5639654b9f74191bcb479d571c7523c",
            "value": "100%"
          }
        },
        "63087e9c9c6b458e83c8377a92ff2117": {
          "model_module": "@jupyter-widgets/controls",
          "model_name": "FloatProgressModel",
          "model_module_version": "1.5.0",
          "state": {
            "_dom_classes": [],
            "_model_module": "@jupyter-widgets/controls",
            "_model_module_version": "1.5.0",
            "_model_name": "FloatProgressModel",
            "_view_count": null,
            "_view_module": "@jupyter-widgets/controls",
            "_view_module_version": "1.5.0",
            "_view_name": "ProgressView",
            "bar_style": "success",
            "description": "",
            "description_tooltip": null,
            "layout": "IPY_MODEL_4deec4f7f91f42f68fc2836eedd2e3e3",
            "max": 20596,
            "min": 0,
            "orientation": "horizontal",
            "style": "IPY_MODEL_d450b2c3761948eca8f1cda155a5f701",
            "value": 20596
          }
        },
        "1872c619b050465985d0b25ca97ef37b": {
          "model_module": "@jupyter-widgets/controls",
          "model_name": "HTMLModel",
          "model_module_version": "1.5.0",
          "state": {
            "_dom_classes": [],
            "_model_module": "@jupyter-widgets/controls",
            "_model_module_version": "1.5.0",
            "_model_name": "HTMLModel",
            "_view_count": null,
            "_view_module": "@jupyter-widgets/controls",
            "_view_module_version": "1.5.0",
            "_view_name": "HTMLView",
            "description": "",
            "description_tooltip": null,
            "layout": "IPY_MODEL_320c14c270fc4a879b3a1bfe3ab38b87",
            "placeholder": "​",
            "style": "IPY_MODEL_2c5d8ee7c96d4588b5540b50f3ee42d9",
            "value": " 20596/20596 [03:03&lt;00:00, 106.62it/s]"
          }
        },
        "1b63acdb7d1a4dff8d45dbe88fffe5bb": {
          "model_module": "@jupyter-widgets/base",
          "model_name": "LayoutModel",
          "model_module_version": "1.2.0",
          "state": {
            "_model_module": "@jupyter-widgets/base",
            "_model_module_version": "1.2.0",
            "_model_name": "LayoutModel",
            "_view_count": null,
            "_view_module": "@jupyter-widgets/base",
            "_view_module_version": "1.2.0",
            "_view_name": "LayoutView",
            "align_content": null,
            "align_items": null,
            "align_self": null,
            "border": null,
            "bottom": null,
            "display": null,
            "flex": null,
            "flex_flow": null,
            "grid_area": null,
            "grid_auto_columns": null,
            "grid_auto_flow": null,
            "grid_auto_rows": null,
            "grid_column": null,
            "grid_gap": null,
            "grid_row": null,
            "grid_template_areas": null,
            "grid_template_columns": null,
            "grid_template_rows": null,
            "height": null,
            "justify_content": null,
            "justify_items": null,
            "left": null,
            "margin": null,
            "max_height": null,
            "max_width": null,
            "min_height": null,
            "min_width": null,
            "object_fit": null,
            "object_position": null,
            "order": null,
            "overflow": null,
            "overflow_x": null,
            "overflow_y": null,
            "padding": null,
            "right": null,
            "top": null,
            "visibility": null,
            "width": null
          }
        },
        "8430b230976b4fecae472ad38b1f3b8c": {
          "model_module": "@jupyter-widgets/base",
          "model_name": "LayoutModel",
          "model_module_version": "1.2.0",
          "state": {
            "_model_module": "@jupyter-widgets/base",
            "_model_module_version": "1.2.0",
            "_model_name": "LayoutModel",
            "_view_count": null,
            "_view_module": "@jupyter-widgets/base",
            "_view_module_version": "1.2.0",
            "_view_name": "LayoutView",
            "align_content": null,
            "align_items": null,
            "align_self": null,
            "border": null,
            "bottom": null,
            "display": null,
            "flex": null,
            "flex_flow": null,
            "grid_area": null,
            "grid_auto_columns": null,
            "grid_auto_flow": null,
            "grid_auto_rows": null,
            "grid_column": null,
            "grid_gap": null,
            "grid_row": null,
            "grid_template_areas": null,
            "grid_template_columns": null,
            "grid_template_rows": null,
            "height": null,
            "justify_content": null,
            "justify_items": null,
            "left": null,
            "margin": null,
            "max_height": null,
            "max_width": null,
            "min_height": null,
            "min_width": null,
            "object_fit": null,
            "object_position": null,
            "order": null,
            "overflow": null,
            "overflow_x": null,
            "overflow_y": null,
            "padding": null,
            "right": null,
            "top": null,
            "visibility": null,
            "width": null
          }
        },
        "c5639654b9f74191bcb479d571c7523c": {
          "model_module": "@jupyter-widgets/controls",
          "model_name": "DescriptionStyleModel",
          "model_module_version": "1.5.0",
          "state": {
            "_model_module": "@jupyter-widgets/controls",
            "_model_module_version": "1.5.0",
            "_model_name": "DescriptionStyleModel",
            "_view_count": null,
            "_view_module": "@jupyter-widgets/base",
            "_view_module_version": "1.2.0",
            "_view_name": "StyleView",
            "description_width": ""
          }
        },
        "4deec4f7f91f42f68fc2836eedd2e3e3": {
          "model_module": "@jupyter-widgets/base",
          "model_name": "LayoutModel",
          "model_module_version": "1.2.0",
          "state": {
            "_model_module": "@jupyter-widgets/base",
            "_model_module_version": "1.2.0",
            "_model_name": "LayoutModel",
            "_view_count": null,
            "_view_module": "@jupyter-widgets/base",
            "_view_module_version": "1.2.0",
            "_view_name": "LayoutView",
            "align_content": null,
            "align_items": null,
            "align_self": null,
            "border": null,
            "bottom": null,
            "display": null,
            "flex": null,
            "flex_flow": null,
            "grid_area": null,
            "grid_auto_columns": null,
            "grid_auto_flow": null,
            "grid_auto_rows": null,
            "grid_column": null,
            "grid_gap": null,
            "grid_row": null,
            "grid_template_areas": null,
            "grid_template_columns": null,
            "grid_template_rows": null,
            "height": null,
            "justify_content": null,
            "justify_items": null,
            "left": null,
            "margin": null,
            "max_height": null,
            "max_width": null,
            "min_height": null,
            "min_width": null,
            "object_fit": null,
            "object_position": null,
            "order": null,
            "overflow": null,
            "overflow_x": null,
            "overflow_y": null,
            "padding": null,
            "right": null,
            "top": null,
            "visibility": null,
            "width": null
          }
        },
        "d450b2c3761948eca8f1cda155a5f701": {
          "model_module": "@jupyter-widgets/controls",
          "model_name": "ProgressStyleModel",
          "model_module_version": "1.5.0",
          "state": {
            "_model_module": "@jupyter-widgets/controls",
            "_model_module_version": "1.5.0",
            "_model_name": "ProgressStyleModel",
            "_view_count": null,
            "_view_module": "@jupyter-widgets/base",
            "_view_module_version": "1.2.0",
            "_view_name": "StyleView",
            "bar_color": null,
            "description_width": ""
          }
        },
        "320c14c270fc4a879b3a1bfe3ab38b87": {
          "model_module": "@jupyter-widgets/base",
          "model_name": "LayoutModel",
          "model_module_version": "1.2.0",
          "state": {
            "_model_module": "@jupyter-widgets/base",
            "_model_module_version": "1.2.0",
            "_model_name": "LayoutModel",
            "_view_count": null,
            "_view_module": "@jupyter-widgets/base",
            "_view_module_version": "1.2.0",
            "_view_name": "LayoutView",
            "align_content": null,
            "align_items": null,
            "align_self": null,
            "border": null,
            "bottom": null,
            "display": null,
            "flex": null,
            "flex_flow": null,
            "grid_area": null,
            "grid_auto_columns": null,
            "grid_auto_flow": null,
            "grid_auto_rows": null,
            "grid_column": null,
            "grid_gap": null,
            "grid_row": null,
            "grid_template_areas": null,
            "grid_template_columns": null,
            "grid_template_rows": null,
            "height": null,
            "justify_content": null,
            "justify_items": null,
            "left": null,
            "margin": null,
            "max_height": null,
            "max_width": null,
            "min_height": null,
            "min_width": null,
            "object_fit": null,
            "object_position": null,
            "order": null,
            "overflow": null,
            "overflow_x": null,
            "overflow_y": null,
            "padding": null,
            "right": null,
            "top": null,
            "visibility": null,
            "width": null
          }
        },
        "2c5d8ee7c96d4588b5540b50f3ee42d9": {
          "model_module": "@jupyter-widgets/controls",
          "model_name": "DescriptionStyleModel",
          "model_module_version": "1.5.0",
          "state": {
            "_model_module": "@jupyter-widgets/controls",
            "_model_module_version": "1.5.0",
            "_model_name": "DescriptionStyleModel",
            "_view_count": null,
            "_view_module": "@jupyter-widgets/base",
            "_view_module_version": "1.2.0",
            "_view_name": "StyleView",
            "description_width": ""
          }
        },
        "911a51c1d3ec4e0aa4339e5b3a789e7a": {
          "model_module": "@jupyter-widgets/controls",
          "model_name": "HBoxModel",
          "model_module_version": "1.5.0",
          "state": {
            "_dom_classes": [],
            "_model_module": "@jupyter-widgets/controls",
            "_model_module_version": "1.5.0",
            "_model_name": "HBoxModel",
            "_view_count": null,
            "_view_module": "@jupyter-widgets/controls",
            "_view_module_version": "1.5.0",
            "_view_name": "HBoxView",
            "box_style": "",
            "children": [
              "IPY_MODEL_41539b5d22d64125a44b3926c9f40873",
              "IPY_MODEL_c0aae5ef2a214a7ca8662a1d1b64a60f",
              "IPY_MODEL_8c1a365aed60487784a26d3667ad1bae"
            ],
            "layout": "IPY_MODEL_b8ac6f0e353c477b99136e58b48a763e"
          }
        },
        "41539b5d22d64125a44b3926c9f40873": {
          "model_module": "@jupyter-widgets/controls",
          "model_name": "HTMLModel",
          "model_module_version": "1.5.0",
          "state": {
            "_dom_classes": [],
            "_model_module": "@jupyter-widgets/controls",
            "_model_module_version": "1.5.0",
            "_model_name": "HTMLModel",
            "_view_count": null,
            "_view_module": "@jupyter-widgets/controls",
            "_view_module_version": "1.5.0",
            "_view_name": "HTMLView",
            "description": "",
            "description_tooltip": null,
            "layout": "IPY_MODEL_8588610f20f74268ad04335d3be198c1",
            "placeholder": "​",
            "style": "IPY_MODEL_a6d7c95539f3450eaddb154ed79a199a",
            "value": "100%"
          }
        },
        "c0aae5ef2a214a7ca8662a1d1b64a60f": {
          "model_module": "@jupyter-widgets/controls",
          "model_name": "FloatProgressModel",
          "model_module_version": "1.5.0",
          "state": {
            "_dom_classes": [],
            "_model_module": "@jupyter-widgets/controls",
            "_model_module_version": "1.5.0",
            "_model_name": "FloatProgressModel",
            "_view_count": null,
            "_view_module": "@jupyter-widgets/controls",
            "_view_module_version": "1.5.0",
            "_view_name": "ProgressView",
            "bar_style": "success",
            "description": "",
            "description_tooltip": null,
            "layout": "IPY_MODEL_0c92602721854b8993cf7bb34b6ba2cd",
            "max": 20596,
            "min": 0,
            "orientation": "horizontal",
            "style": "IPY_MODEL_1e34946ffa634a82812187f1a0814e6b",
            "value": 20596
          }
        },
        "8c1a365aed60487784a26d3667ad1bae": {
          "model_module": "@jupyter-widgets/controls",
          "model_name": "HTMLModel",
          "model_module_version": "1.5.0",
          "state": {
            "_dom_classes": [],
            "_model_module": "@jupyter-widgets/controls",
            "_model_module_version": "1.5.0",
            "_model_name": "HTMLModel",
            "_view_count": null,
            "_view_module": "@jupyter-widgets/controls",
            "_view_module_version": "1.5.0",
            "_view_name": "HTMLView",
            "description": "",
            "description_tooltip": null,
            "layout": "IPY_MODEL_a4be5e2db61f4a478b974f4d5816a8a8",
            "placeholder": "​",
            "style": "IPY_MODEL_c3aa5149063a42049a5c9a7ff79d01c5",
            "value": " 20596/20596 [09:30&lt;00:00, 56.15it/s]"
          }
        },
        "b8ac6f0e353c477b99136e58b48a763e": {
          "model_module": "@jupyter-widgets/base",
          "model_name": "LayoutModel",
          "model_module_version": "1.2.0",
          "state": {
            "_model_module": "@jupyter-widgets/base",
            "_model_module_version": "1.2.0",
            "_model_name": "LayoutModel",
            "_view_count": null,
            "_view_module": "@jupyter-widgets/base",
            "_view_module_version": "1.2.0",
            "_view_name": "LayoutView",
            "align_content": null,
            "align_items": null,
            "align_self": null,
            "border": null,
            "bottom": null,
            "display": null,
            "flex": null,
            "flex_flow": null,
            "grid_area": null,
            "grid_auto_columns": null,
            "grid_auto_flow": null,
            "grid_auto_rows": null,
            "grid_column": null,
            "grid_gap": null,
            "grid_row": null,
            "grid_template_areas": null,
            "grid_template_columns": null,
            "grid_template_rows": null,
            "height": null,
            "justify_content": null,
            "justify_items": null,
            "left": null,
            "margin": null,
            "max_height": null,
            "max_width": null,
            "min_height": null,
            "min_width": null,
            "object_fit": null,
            "object_position": null,
            "order": null,
            "overflow": null,
            "overflow_x": null,
            "overflow_y": null,
            "padding": null,
            "right": null,
            "top": null,
            "visibility": null,
            "width": null
          }
        },
        "8588610f20f74268ad04335d3be198c1": {
          "model_module": "@jupyter-widgets/base",
          "model_name": "LayoutModel",
          "model_module_version": "1.2.0",
          "state": {
            "_model_module": "@jupyter-widgets/base",
            "_model_module_version": "1.2.0",
            "_model_name": "LayoutModel",
            "_view_count": null,
            "_view_module": "@jupyter-widgets/base",
            "_view_module_version": "1.2.0",
            "_view_name": "LayoutView",
            "align_content": null,
            "align_items": null,
            "align_self": null,
            "border": null,
            "bottom": null,
            "display": null,
            "flex": null,
            "flex_flow": null,
            "grid_area": null,
            "grid_auto_columns": null,
            "grid_auto_flow": null,
            "grid_auto_rows": null,
            "grid_column": null,
            "grid_gap": null,
            "grid_row": null,
            "grid_template_areas": null,
            "grid_template_columns": null,
            "grid_template_rows": null,
            "height": null,
            "justify_content": null,
            "justify_items": null,
            "left": null,
            "margin": null,
            "max_height": null,
            "max_width": null,
            "min_height": null,
            "min_width": null,
            "object_fit": null,
            "object_position": null,
            "order": null,
            "overflow": null,
            "overflow_x": null,
            "overflow_y": null,
            "padding": null,
            "right": null,
            "top": null,
            "visibility": null,
            "width": null
          }
        },
        "a6d7c95539f3450eaddb154ed79a199a": {
          "model_module": "@jupyter-widgets/controls",
          "model_name": "DescriptionStyleModel",
          "model_module_version": "1.5.0",
          "state": {
            "_model_module": "@jupyter-widgets/controls",
            "_model_module_version": "1.5.0",
            "_model_name": "DescriptionStyleModel",
            "_view_count": null,
            "_view_module": "@jupyter-widgets/base",
            "_view_module_version": "1.2.0",
            "_view_name": "StyleView",
            "description_width": ""
          }
        },
        "0c92602721854b8993cf7bb34b6ba2cd": {
          "model_module": "@jupyter-widgets/base",
          "model_name": "LayoutModel",
          "model_module_version": "1.2.0",
          "state": {
            "_model_module": "@jupyter-widgets/base",
            "_model_module_version": "1.2.0",
            "_model_name": "LayoutModel",
            "_view_count": null,
            "_view_module": "@jupyter-widgets/base",
            "_view_module_version": "1.2.0",
            "_view_name": "LayoutView",
            "align_content": null,
            "align_items": null,
            "align_self": null,
            "border": null,
            "bottom": null,
            "display": null,
            "flex": null,
            "flex_flow": null,
            "grid_area": null,
            "grid_auto_columns": null,
            "grid_auto_flow": null,
            "grid_auto_rows": null,
            "grid_column": null,
            "grid_gap": null,
            "grid_row": null,
            "grid_template_areas": null,
            "grid_template_columns": null,
            "grid_template_rows": null,
            "height": null,
            "justify_content": null,
            "justify_items": null,
            "left": null,
            "margin": null,
            "max_height": null,
            "max_width": null,
            "min_height": null,
            "min_width": null,
            "object_fit": null,
            "object_position": null,
            "order": null,
            "overflow": null,
            "overflow_x": null,
            "overflow_y": null,
            "padding": null,
            "right": null,
            "top": null,
            "visibility": null,
            "width": null
          }
        },
        "1e34946ffa634a82812187f1a0814e6b": {
          "model_module": "@jupyter-widgets/controls",
          "model_name": "ProgressStyleModel",
          "model_module_version": "1.5.0",
          "state": {
            "_model_module": "@jupyter-widgets/controls",
            "_model_module_version": "1.5.0",
            "_model_name": "ProgressStyleModel",
            "_view_count": null,
            "_view_module": "@jupyter-widgets/base",
            "_view_module_version": "1.2.0",
            "_view_name": "StyleView",
            "bar_color": null,
            "description_width": ""
          }
        },
        "a4be5e2db61f4a478b974f4d5816a8a8": {
          "model_module": "@jupyter-widgets/base",
          "model_name": "LayoutModel",
          "model_module_version": "1.2.0",
          "state": {
            "_model_module": "@jupyter-widgets/base",
            "_model_module_version": "1.2.0",
            "_model_name": "LayoutModel",
            "_view_count": null,
            "_view_module": "@jupyter-widgets/base",
            "_view_module_version": "1.2.0",
            "_view_name": "LayoutView",
            "align_content": null,
            "align_items": null,
            "align_self": null,
            "border": null,
            "bottom": null,
            "display": null,
            "flex": null,
            "flex_flow": null,
            "grid_area": null,
            "grid_auto_columns": null,
            "grid_auto_flow": null,
            "grid_auto_rows": null,
            "grid_column": null,
            "grid_gap": null,
            "grid_row": null,
            "grid_template_areas": null,
            "grid_template_columns": null,
            "grid_template_rows": null,
            "height": null,
            "justify_content": null,
            "justify_items": null,
            "left": null,
            "margin": null,
            "max_height": null,
            "max_width": null,
            "min_height": null,
            "min_width": null,
            "object_fit": null,
            "object_position": null,
            "order": null,
            "overflow": null,
            "overflow_x": null,
            "overflow_y": null,
            "padding": null,
            "right": null,
            "top": null,
            "visibility": null,
            "width": null
          }
        },
        "c3aa5149063a42049a5c9a7ff79d01c5": {
          "model_module": "@jupyter-widgets/controls",
          "model_name": "DescriptionStyleModel",
          "model_module_version": "1.5.0",
          "state": {
            "_model_module": "@jupyter-widgets/controls",
            "_model_module_version": "1.5.0",
            "_model_name": "DescriptionStyleModel",
            "_view_count": null,
            "_view_module": "@jupyter-widgets/base",
            "_view_module_version": "1.2.0",
            "_view_name": "StyleView",
            "description_width": ""
          }
        },
        "3bab2c7877934a8da07ad9cdf36c0462": {
          "model_module": "@jupyter-widgets/controls",
          "model_name": "HBoxModel",
          "model_module_version": "1.5.0",
          "state": {
            "_dom_classes": [],
            "_model_module": "@jupyter-widgets/controls",
            "_model_module_version": "1.5.0",
            "_model_name": "HBoxModel",
            "_view_count": null,
            "_view_module": "@jupyter-widgets/controls",
            "_view_module_version": "1.5.0",
            "_view_name": "HBoxView",
            "box_style": "",
            "children": [
              "IPY_MODEL_c4d115b1f4b04ec5bfcc0a89a2332166",
              "IPY_MODEL_27fecd8be76d49479b3aefa8378df7a1",
              "IPY_MODEL_54a2d77dfbfa416b8c4642a4acb2478e"
            ],
            "layout": "IPY_MODEL_eca6ff2108094736af65c3872b2915e7"
          }
        },
        "c4d115b1f4b04ec5bfcc0a89a2332166": {
          "model_module": "@jupyter-widgets/controls",
          "model_name": "HTMLModel",
          "model_module_version": "1.5.0",
          "state": {
            "_dom_classes": [],
            "_model_module": "@jupyter-widgets/controls",
            "_model_module_version": "1.5.0",
            "_model_name": "HTMLModel",
            "_view_count": null,
            "_view_module": "@jupyter-widgets/controls",
            "_view_module_version": "1.5.0",
            "_view_name": "HTMLView",
            "description": "",
            "description_tooltip": null,
            "layout": "IPY_MODEL_7d5a09cf970f4c90975f33c0ae71aed8",
            "placeholder": "​",
            "style": "IPY_MODEL_42d9baa0da494a91b6d34a9ccce78c24",
            "value": "100%"
          }
        },
        "27fecd8be76d49479b3aefa8378df7a1": {
          "model_module": "@jupyter-widgets/controls",
          "model_name": "FloatProgressModel",
          "model_module_version": "1.5.0",
          "state": {
            "_dom_classes": [],
            "_model_module": "@jupyter-widgets/controls",
            "_model_module_version": "1.5.0",
            "_model_name": "FloatProgressModel",
            "_view_count": null,
            "_view_module": "@jupyter-widgets/controls",
            "_view_module_version": "1.5.0",
            "_view_name": "ProgressView",
            "bar_style": "success",
            "description": "",
            "description_tooltip": null,
            "layout": "IPY_MODEL_ab26a28263e948d296c29c1d74b7784b",
            "max": 20596,
            "min": 0,
            "orientation": "horizontal",
            "style": "IPY_MODEL_01068eea60fa45ec85b97e6f1667860f",
            "value": 20596
          }
        },
        "54a2d77dfbfa416b8c4642a4acb2478e": {
          "model_module": "@jupyter-widgets/controls",
          "model_name": "HTMLModel",
          "model_module_version": "1.5.0",
          "state": {
            "_dom_classes": [],
            "_model_module": "@jupyter-widgets/controls",
            "_model_module_version": "1.5.0",
            "_model_name": "HTMLModel",
            "_view_count": null,
            "_view_module": "@jupyter-widgets/controls",
            "_view_module_version": "1.5.0",
            "_view_name": "HTMLView",
            "description": "",
            "description_tooltip": null,
            "layout": "IPY_MODEL_35db444202d54067a27e58adfe33ae8a",
            "placeholder": "​",
            "style": "IPY_MODEL_e996be5367fd47c99fde69f68903bdb9",
            "value": " 20596/20596 [01:03&lt;00:00, 331.27it/s]"
          }
        },
        "eca6ff2108094736af65c3872b2915e7": {
          "model_module": "@jupyter-widgets/base",
          "model_name": "LayoutModel",
          "model_module_version": "1.2.0",
          "state": {
            "_model_module": "@jupyter-widgets/base",
            "_model_module_version": "1.2.0",
            "_model_name": "LayoutModel",
            "_view_count": null,
            "_view_module": "@jupyter-widgets/base",
            "_view_module_version": "1.2.0",
            "_view_name": "LayoutView",
            "align_content": null,
            "align_items": null,
            "align_self": null,
            "border": null,
            "bottom": null,
            "display": null,
            "flex": null,
            "flex_flow": null,
            "grid_area": null,
            "grid_auto_columns": null,
            "grid_auto_flow": null,
            "grid_auto_rows": null,
            "grid_column": null,
            "grid_gap": null,
            "grid_row": null,
            "grid_template_areas": null,
            "grid_template_columns": null,
            "grid_template_rows": null,
            "height": null,
            "justify_content": null,
            "justify_items": null,
            "left": null,
            "margin": null,
            "max_height": null,
            "max_width": null,
            "min_height": null,
            "min_width": null,
            "object_fit": null,
            "object_position": null,
            "order": null,
            "overflow": null,
            "overflow_x": null,
            "overflow_y": null,
            "padding": null,
            "right": null,
            "top": null,
            "visibility": null,
            "width": null
          }
        },
        "7d5a09cf970f4c90975f33c0ae71aed8": {
          "model_module": "@jupyter-widgets/base",
          "model_name": "LayoutModel",
          "model_module_version": "1.2.0",
          "state": {
            "_model_module": "@jupyter-widgets/base",
            "_model_module_version": "1.2.0",
            "_model_name": "LayoutModel",
            "_view_count": null,
            "_view_module": "@jupyter-widgets/base",
            "_view_module_version": "1.2.0",
            "_view_name": "LayoutView",
            "align_content": null,
            "align_items": null,
            "align_self": null,
            "border": null,
            "bottom": null,
            "display": null,
            "flex": null,
            "flex_flow": null,
            "grid_area": null,
            "grid_auto_columns": null,
            "grid_auto_flow": null,
            "grid_auto_rows": null,
            "grid_column": null,
            "grid_gap": null,
            "grid_row": null,
            "grid_template_areas": null,
            "grid_template_columns": null,
            "grid_template_rows": null,
            "height": null,
            "justify_content": null,
            "justify_items": null,
            "left": null,
            "margin": null,
            "max_height": null,
            "max_width": null,
            "min_height": null,
            "min_width": null,
            "object_fit": null,
            "object_position": null,
            "order": null,
            "overflow": null,
            "overflow_x": null,
            "overflow_y": null,
            "padding": null,
            "right": null,
            "top": null,
            "visibility": null,
            "width": null
          }
        },
        "42d9baa0da494a91b6d34a9ccce78c24": {
          "model_module": "@jupyter-widgets/controls",
          "model_name": "DescriptionStyleModel",
          "model_module_version": "1.5.0",
          "state": {
            "_model_module": "@jupyter-widgets/controls",
            "_model_module_version": "1.5.0",
            "_model_name": "DescriptionStyleModel",
            "_view_count": null,
            "_view_module": "@jupyter-widgets/base",
            "_view_module_version": "1.2.0",
            "_view_name": "StyleView",
            "description_width": ""
          }
        },
        "ab26a28263e948d296c29c1d74b7784b": {
          "model_module": "@jupyter-widgets/base",
          "model_name": "LayoutModel",
          "model_module_version": "1.2.0",
          "state": {
            "_model_module": "@jupyter-widgets/base",
            "_model_module_version": "1.2.0",
            "_model_name": "LayoutModel",
            "_view_count": null,
            "_view_module": "@jupyter-widgets/base",
            "_view_module_version": "1.2.0",
            "_view_name": "LayoutView",
            "align_content": null,
            "align_items": null,
            "align_self": null,
            "border": null,
            "bottom": null,
            "display": null,
            "flex": null,
            "flex_flow": null,
            "grid_area": null,
            "grid_auto_columns": null,
            "grid_auto_flow": null,
            "grid_auto_rows": null,
            "grid_column": null,
            "grid_gap": null,
            "grid_row": null,
            "grid_template_areas": null,
            "grid_template_columns": null,
            "grid_template_rows": null,
            "height": null,
            "justify_content": null,
            "justify_items": null,
            "left": null,
            "margin": null,
            "max_height": null,
            "max_width": null,
            "min_height": null,
            "min_width": null,
            "object_fit": null,
            "object_position": null,
            "order": null,
            "overflow": null,
            "overflow_x": null,
            "overflow_y": null,
            "padding": null,
            "right": null,
            "top": null,
            "visibility": null,
            "width": null
          }
        },
        "01068eea60fa45ec85b97e6f1667860f": {
          "model_module": "@jupyter-widgets/controls",
          "model_name": "ProgressStyleModel",
          "model_module_version": "1.5.0",
          "state": {
            "_model_module": "@jupyter-widgets/controls",
            "_model_module_version": "1.5.0",
            "_model_name": "ProgressStyleModel",
            "_view_count": null,
            "_view_module": "@jupyter-widgets/base",
            "_view_module_version": "1.2.0",
            "_view_name": "StyleView",
            "bar_color": null,
            "description_width": ""
          }
        },
        "35db444202d54067a27e58adfe33ae8a": {
          "model_module": "@jupyter-widgets/base",
          "model_name": "LayoutModel",
          "model_module_version": "1.2.0",
          "state": {
            "_model_module": "@jupyter-widgets/base",
            "_model_module_version": "1.2.0",
            "_model_name": "LayoutModel",
            "_view_count": null,
            "_view_module": "@jupyter-widgets/base",
            "_view_module_version": "1.2.0",
            "_view_name": "LayoutView",
            "align_content": null,
            "align_items": null,
            "align_self": null,
            "border": null,
            "bottom": null,
            "display": null,
            "flex": null,
            "flex_flow": null,
            "grid_area": null,
            "grid_auto_columns": null,
            "grid_auto_flow": null,
            "grid_auto_rows": null,
            "grid_column": null,
            "grid_gap": null,
            "grid_row": null,
            "grid_template_areas": null,
            "grid_template_columns": null,
            "grid_template_rows": null,
            "height": null,
            "justify_content": null,
            "justify_items": null,
            "left": null,
            "margin": null,
            "max_height": null,
            "max_width": null,
            "min_height": null,
            "min_width": null,
            "object_fit": null,
            "object_position": null,
            "order": null,
            "overflow": null,
            "overflow_x": null,
            "overflow_y": null,
            "padding": null,
            "right": null,
            "top": null,
            "visibility": null,
            "width": null
          }
        },
        "e996be5367fd47c99fde69f68903bdb9": {
          "model_module": "@jupyter-widgets/controls",
          "model_name": "DescriptionStyleModel",
          "model_module_version": "1.5.0",
          "state": {
            "_model_module": "@jupyter-widgets/controls",
            "_model_module_version": "1.5.0",
            "_model_name": "DescriptionStyleModel",
            "_view_count": null,
            "_view_module": "@jupyter-widgets/base",
            "_view_module_version": "1.2.0",
            "_view_name": "StyleView",
            "description_width": ""
          }
        },
        "ab3951ded4064adfb433d0d6c38daf25": {
          "model_module": "@jupyter-widgets/controls",
          "model_name": "HBoxModel",
          "model_module_version": "1.5.0",
          "state": {
            "_dom_classes": [],
            "_model_module": "@jupyter-widgets/controls",
            "_model_module_version": "1.5.0",
            "_model_name": "HBoxModel",
            "_view_count": null,
            "_view_module": "@jupyter-widgets/controls",
            "_view_module_version": "1.5.0",
            "_view_name": "HBoxView",
            "box_style": "",
            "children": [
              "IPY_MODEL_2e6e80c3d3964780b5d6110f5273a8b8",
              "IPY_MODEL_7031c69f612341779965adc8ba35b04c",
              "IPY_MODEL_ec53b8fad9d24ccfaaf080df09c0d0b3"
            ],
            "layout": "IPY_MODEL_9d3d2b598b344412929424dec41a159f"
          }
        },
        "2e6e80c3d3964780b5d6110f5273a8b8": {
          "model_module": "@jupyter-widgets/controls",
          "model_name": "HTMLModel",
          "model_module_version": "1.5.0",
          "state": {
            "_dom_classes": [],
            "_model_module": "@jupyter-widgets/controls",
            "_model_module_version": "1.5.0",
            "_model_name": "HTMLModel",
            "_view_count": null,
            "_view_module": "@jupyter-widgets/controls",
            "_view_module_version": "1.5.0",
            "_view_name": "HTMLView",
            "description": "",
            "description_tooltip": null,
            "layout": "IPY_MODEL_015fd17db4a84692bd56f53d0e84dc4a",
            "placeholder": "​",
            "style": "IPY_MODEL_9c8297f70f6a4ad884eef90acd81f779",
            "value": "100%"
          }
        },
        "7031c69f612341779965adc8ba35b04c": {
          "model_module": "@jupyter-widgets/controls",
          "model_name": "FloatProgressModel",
          "model_module_version": "1.5.0",
          "state": {
            "_dom_classes": [],
            "_model_module": "@jupyter-widgets/controls",
            "_model_module_version": "1.5.0",
            "_model_name": "FloatProgressModel",
            "_view_count": null,
            "_view_module": "@jupyter-widgets/controls",
            "_view_module_version": "1.5.0",
            "_view_name": "ProgressView",
            "bar_style": "success",
            "description": "",
            "description_tooltip": null,
            "layout": "IPY_MODEL_cfa99ec88302436c975a02cec9cc5a12",
            "max": 20596,
            "min": 0,
            "orientation": "horizontal",
            "style": "IPY_MODEL_51c341f40a424a08944731ab6d771774",
            "value": 20596
          }
        },
        "ec53b8fad9d24ccfaaf080df09c0d0b3": {
          "model_module": "@jupyter-widgets/controls",
          "model_name": "HTMLModel",
          "model_module_version": "1.5.0",
          "state": {
            "_dom_classes": [],
            "_model_module": "@jupyter-widgets/controls",
            "_model_module_version": "1.5.0",
            "_model_name": "HTMLModel",
            "_view_count": null,
            "_view_module": "@jupyter-widgets/controls",
            "_view_module_version": "1.5.0",
            "_view_name": "HTMLView",
            "description": "",
            "description_tooltip": null,
            "layout": "IPY_MODEL_2c98a0b6b2864c64bdde48008938660e",
            "placeholder": "​",
            "style": "IPY_MODEL_30b09969afec4ae4a9541abba98f67c4",
            "value": " 20596/20596 [04:01&lt;00:00, 160.19it/s]"
          }
        },
        "9d3d2b598b344412929424dec41a159f": {
          "model_module": "@jupyter-widgets/base",
          "model_name": "LayoutModel",
          "model_module_version": "1.2.0",
          "state": {
            "_model_module": "@jupyter-widgets/base",
            "_model_module_version": "1.2.0",
            "_model_name": "LayoutModel",
            "_view_count": null,
            "_view_module": "@jupyter-widgets/base",
            "_view_module_version": "1.2.0",
            "_view_name": "LayoutView",
            "align_content": null,
            "align_items": null,
            "align_self": null,
            "border": null,
            "bottom": null,
            "display": null,
            "flex": null,
            "flex_flow": null,
            "grid_area": null,
            "grid_auto_columns": null,
            "grid_auto_flow": null,
            "grid_auto_rows": null,
            "grid_column": null,
            "grid_gap": null,
            "grid_row": null,
            "grid_template_areas": null,
            "grid_template_columns": null,
            "grid_template_rows": null,
            "height": null,
            "justify_content": null,
            "justify_items": null,
            "left": null,
            "margin": null,
            "max_height": null,
            "max_width": null,
            "min_height": null,
            "min_width": null,
            "object_fit": null,
            "object_position": null,
            "order": null,
            "overflow": null,
            "overflow_x": null,
            "overflow_y": null,
            "padding": null,
            "right": null,
            "top": null,
            "visibility": null,
            "width": null
          }
        },
        "015fd17db4a84692bd56f53d0e84dc4a": {
          "model_module": "@jupyter-widgets/base",
          "model_name": "LayoutModel",
          "model_module_version": "1.2.0",
          "state": {
            "_model_module": "@jupyter-widgets/base",
            "_model_module_version": "1.2.0",
            "_model_name": "LayoutModel",
            "_view_count": null,
            "_view_module": "@jupyter-widgets/base",
            "_view_module_version": "1.2.0",
            "_view_name": "LayoutView",
            "align_content": null,
            "align_items": null,
            "align_self": null,
            "border": null,
            "bottom": null,
            "display": null,
            "flex": null,
            "flex_flow": null,
            "grid_area": null,
            "grid_auto_columns": null,
            "grid_auto_flow": null,
            "grid_auto_rows": null,
            "grid_column": null,
            "grid_gap": null,
            "grid_row": null,
            "grid_template_areas": null,
            "grid_template_columns": null,
            "grid_template_rows": null,
            "height": null,
            "justify_content": null,
            "justify_items": null,
            "left": null,
            "margin": null,
            "max_height": null,
            "max_width": null,
            "min_height": null,
            "min_width": null,
            "object_fit": null,
            "object_position": null,
            "order": null,
            "overflow": null,
            "overflow_x": null,
            "overflow_y": null,
            "padding": null,
            "right": null,
            "top": null,
            "visibility": null,
            "width": null
          }
        },
        "9c8297f70f6a4ad884eef90acd81f779": {
          "model_module": "@jupyter-widgets/controls",
          "model_name": "DescriptionStyleModel",
          "model_module_version": "1.5.0",
          "state": {
            "_model_module": "@jupyter-widgets/controls",
            "_model_module_version": "1.5.0",
            "_model_name": "DescriptionStyleModel",
            "_view_count": null,
            "_view_module": "@jupyter-widgets/base",
            "_view_module_version": "1.2.0",
            "_view_name": "StyleView",
            "description_width": ""
          }
        },
        "cfa99ec88302436c975a02cec9cc5a12": {
          "model_module": "@jupyter-widgets/base",
          "model_name": "LayoutModel",
          "model_module_version": "1.2.0",
          "state": {
            "_model_module": "@jupyter-widgets/base",
            "_model_module_version": "1.2.0",
            "_model_name": "LayoutModel",
            "_view_count": null,
            "_view_module": "@jupyter-widgets/base",
            "_view_module_version": "1.2.0",
            "_view_name": "LayoutView",
            "align_content": null,
            "align_items": null,
            "align_self": null,
            "border": null,
            "bottom": null,
            "display": null,
            "flex": null,
            "flex_flow": null,
            "grid_area": null,
            "grid_auto_columns": null,
            "grid_auto_flow": null,
            "grid_auto_rows": null,
            "grid_column": null,
            "grid_gap": null,
            "grid_row": null,
            "grid_template_areas": null,
            "grid_template_columns": null,
            "grid_template_rows": null,
            "height": null,
            "justify_content": null,
            "justify_items": null,
            "left": null,
            "margin": null,
            "max_height": null,
            "max_width": null,
            "min_height": null,
            "min_width": null,
            "object_fit": null,
            "object_position": null,
            "order": null,
            "overflow": null,
            "overflow_x": null,
            "overflow_y": null,
            "padding": null,
            "right": null,
            "top": null,
            "visibility": null,
            "width": null
          }
        },
        "51c341f40a424a08944731ab6d771774": {
          "model_module": "@jupyter-widgets/controls",
          "model_name": "ProgressStyleModel",
          "model_module_version": "1.5.0",
          "state": {
            "_model_module": "@jupyter-widgets/controls",
            "_model_module_version": "1.5.0",
            "_model_name": "ProgressStyleModel",
            "_view_count": null,
            "_view_module": "@jupyter-widgets/base",
            "_view_module_version": "1.2.0",
            "_view_name": "StyleView",
            "bar_color": null,
            "description_width": ""
          }
        },
        "2c98a0b6b2864c64bdde48008938660e": {
          "model_module": "@jupyter-widgets/base",
          "model_name": "LayoutModel",
          "model_module_version": "1.2.0",
          "state": {
            "_model_module": "@jupyter-widgets/base",
            "_model_module_version": "1.2.0",
            "_model_name": "LayoutModel",
            "_view_count": null,
            "_view_module": "@jupyter-widgets/base",
            "_view_module_version": "1.2.0",
            "_view_name": "LayoutView",
            "align_content": null,
            "align_items": null,
            "align_self": null,
            "border": null,
            "bottom": null,
            "display": null,
            "flex": null,
            "flex_flow": null,
            "grid_area": null,
            "grid_auto_columns": null,
            "grid_auto_flow": null,
            "grid_auto_rows": null,
            "grid_column": null,
            "grid_gap": null,
            "grid_row": null,
            "grid_template_areas": null,
            "grid_template_columns": null,
            "grid_template_rows": null,
            "height": null,
            "justify_content": null,
            "justify_items": null,
            "left": null,
            "margin": null,
            "max_height": null,
            "max_width": null,
            "min_height": null,
            "min_width": null,
            "object_fit": null,
            "object_position": null,
            "order": null,
            "overflow": null,
            "overflow_x": null,
            "overflow_y": null,
            "padding": null,
            "right": null,
            "top": null,
            "visibility": null,
            "width": null
          }
        },
        "30b09969afec4ae4a9541abba98f67c4": {
          "model_module": "@jupyter-widgets/controls",
          "model_name": "DescriptionStyleModel",
          "model_module_version": "1.5.0",
          "state": {
            "_model_module": "@jupyter-widgets/controls",
            "_model_module_version": "1.5.0",
            "_model_name": "DescriptionStyleModel",
            "_view_count": null,
            "_view_module": "@jupyter-widgets/base",
            "_view_module_version": "1.2.0",
            "_view_name": "StyleView",
            "description_width": ""
          }
        },
        "cdf4ac94acce42219ed769abebdcf06f": {
          "model_module": "@jupyter-widgets/controls",
          "model_name": "HBoxModel",
          "model_module_version": "1.5.0",
          "state": {
            "_dom_classes": [],
            "_model_module": "@jupyter-widgets/controls",
            "_model_module_version": "1.5.0",
            "_model_name": "HBoxModel",
            "_view_count": null,
            "_view_module": "@jupyter-widgets/controls",
            "_view_module_version": "1.5.0",
            "_view_name": "HBoxView",
            "box_style": "",
            "children": [
              "IPY_MODEL_a23796d84e204d76801e4732f0ee5e95",
              "IPY_MODEL_72a5bf140bda43b8a1c6df18993ab3f6",
              "IPY_MODEL_2d2cce71af834cf998cef853b6d7b761"
            ],
            "layout": "IPY_MODEL_29799c8356514cfda2e8a440d1e85beb"
          }
        },
        "a23796d84e204d76801e4732f0ee5e95": {
          "model_module": "@jupyter-widgets/controls",
          "model_name": "HTMLModel",
          "model_module_version": "1.5.0",
          "state": {
            "_dom_classes": [],
            "_model_module": "@jupyter-widgets/controls",
            "_model_module_version": "1.5.0",
            "_model_name": "HTMLModel",
            "_view_count": null,
            "_view_module": "@jupyter-widgets/controls",
            "_view_module_version": "1.5.0",
            "_view_name": "HTMLView",
            "description": "",
            "description_tooltip": null,
            "layout": "IPY_MODEL_98aa5a0b335749bcb59e1620660534bf",
            "placeholder": "​",
            "style": "IPY_MODEL_59d555c1de1145c2b184767422dfb703",
            "value": "100%"
          }
        },
        "72a5bf140bda43b8a1c6df18993ab3f6": {
          "model_module": "@jupyter-widgets/controls",
          "model_name": "FloatProgressModel",
          "model_module_version": "1.5.0",
          "state": {
            "_dom_classes": [],
            "_model_module": "@jupyter-widgets/controls",
            "_model_module_version": "1.5.0",
            "_model_name": "FloatProgressModel",
            "_view_count": null,
            "_view_module": "@jupyter-widgets/controls",
            "_view_module_version": "1.5.0",
            "_view_name": "ProgressView",
            "bar_style": "success",
            "description": "",
            "description_tooltip": null,
            "layout": "IPY_MODEL_5e3638cd9e0240f99e803612148473bc",
            "max": 20596,
            "min": 0,
            "orientation": "horizontal",
            "style": "IPY_MODEL_60176659d86f498f90a4bbe2589ecf63",
            "value": 20596
          }
        },
        "2d2cce71af834cf998cef853b6d7b761": {
          "model_module": "@jupyter-widgets/controls",
          "model_name": "HTMLModel",
          "model_module_version": "1.5.0",
          "state": {
            "_dom_classes": [],
            "_model_module": "@jupyter-widgets/controls",
            "_model_module_version": "1.5.0",
            "_model_name": "HTMLModel",
            "_view_count": null,
            "_view_module": "@jupyter-widgets/controls",
            "_view_module_version": "1.5.0",
            "_view_name": "HTMLView",
            "description": "",
            "description_tooltip": null,
            "layout": "IPY_MODEL_b3aba38449324254932626bb3e6056af",
            "placeholder": "​",
            "style": "IPY_MODEL_6c5aff2fb7c54d63b0ae6831b3cac83f",
            "value": " 20596/20596 [01:16&lt;00:00, 274.95it/s]"
          }
        },
        "29799c8356514cfda2e8a440d1e85beb": {
          "model_module": "@jupyter-widgets/base",
          "model_name": "LayoutModel",
          "model_module_version": "1.2.0",
          "state": {
            "_model_module": "@jupyter-widgets/base",
            "_model_module_version": "1.2.0",
            "_model_name": "LayoutModel",
            "_view_count": null,
            "_view_module": "@jupyter-widgets/base",
            "_view_module_version": "1.2.0",
            "_view_name": "LayoutView",
            "align_content": null,
            "align_items": null,
            "align_self": null,
            "border": null,
            "bottom": null,
            "display": null,
            "flex": null,
            "flex_flow": null,
            "grid_area": null,
            "grid_auto_columns": null,
            "grid_auto_flow": null,
            "grid_auto_rows": null,
            "grid_column": null,
            "grid_gap": null,
            "grid_row": null,
            "grid_template_areas": null,
            "grid_template_columns": null,
            "grid_template_rows": null,
            "height": null,
            "justify_content": null,
            "justify_items": null,
            "left": null,
            "margin": null,
            "max_height": null,
            "max_width": null,
            "min_height": null,
            "min_width": null,
            "object_fit": null,
            "object_position": null,
            "order": null,
            "overflow": null,
            "overflow_x": null,
            "overflow_y": null,
            "padding": null,
            "right": null,
            "top": null,
            "visibility": null,
            "width": null
          }
        },
        "98aa5a0b335749bcb59e1620660534bf": {
          "model_module": "@jupyter-widgets/base",
          "model_name": "LayoutModel",
          "model_module_version": "1.2.0",
          "state": {
            "_model_module": "@jupyter-widgets/base",
            "_model_module_version": "1.2.0",
            "_model_name": "LayoutModel",
            "_view_count": null,
            "_view_module": "@jupyter-widgets/base",
            "_view_module_version": "1.2.0",
            "_view_name": "LayoutView",
            "align_content": null,
            "align_items": null,
            "align_self": null,
            "border": null,
            "bottom": null,
            "display": null,
            "flex": null,
            "flex_flow": null,
            "grid_area": null,
            "grid_auto_columns": null,
            "grid_auto_flow": null,
            "grid_auto_rows": null,
            "grid_column": null,
            "grid_gap": null,
            "grid_row": null,
            "grid_template_areas": null,
            "grid_template_columns": null,
            "grid_template_rows": null,
            "height": null,
            "justify_content": null,
            "justify_items": null,
            "left": null,
            "margin": null,
            "max_height": null,
            "max_width": null,
            "min_height": null,
            "min_width": null,
            "object_fit": null,
            "object_position": null,
            "order": null,
            "overflow": null,
            "overflow_x": null,
            "overflow_y": null,
            "padding": null,
            "right": null,
            "top": null,
            "visibility": null,
            "width": null
          }
        },
        "59d555c1de1145c2b184767422dfb703": {
          "model_module": "@jupyter-widgets/controls",
          "model_name": "DescriptionStyleModel",
          "model_module_version": "1.5.0",
          "state": {
            "_model_module": "@jupyter-widgets/controls",
            "_model_module_version": "1.5.0",
            "_model_name": "DescriptionStyleModel",
            "_view_count": null,
            "_view_module": "@jupyter-widgets/base",
            "_view_module_version": "1.2.0",
            "_view_name": "StyleView",
            "description_width": ""
          }
        },
        "5e3638cd9e0240f99e803612148473bc": {
          "model_module": "@jupyter-widgets/base",
          "model_name": "LayoutModel",
          "model_module_version": "1.2.0",
          "state": {
            "_model_module": "@jupyter-widgets/base",
            "_model_module_version": "1.2.0",
            "_model_name": "LayoutModel",
            "_view_count": null,
            "_view_module": "@jupyter-widgets/base",
            "_view_module_version": "1.2.0",
            "_view_name": "LayoutView",
            "align_content": null,
            "align_items": null,
            "align_self": null,
            "border": null,
            "bottom": null,
            "display": null,
            "flex": null,
            "flex_flow": null,
            "grid_area": null,
            "grid_auto_columns": null,
            "grid_auto_flow": null,
            "grid_auto_rows": null,
            "grid_column": null,
            "grid_gap": null,
            "grid_row": null,
            "grid_template_areas": null,
            "grid_template_columns": null,
            "grid_template_rows": null,
            "height": null,
            "justify_content": null,
            "justify_items": null,
            "left": null,
            "margin": null,
            "max_height": null,
            "max_width": null,
            "min_height": null,
            "min_width": null,
            "object_fit": null,
            "object_position": null,
            "order": null,
            "overflow": null,
            "overflow_x": null,
            "overflow_y": null,
            "padding": null,
            "right": null,
            "top": null,
            "visibility": null,
            "width": null
          }
        },
        "60176659d86f498f90a4bbe2589ecf63": {
          "model_module": "@jupyter-widgets/controls",
          "model_name": "ProgressStyleModel",
          "model_module_version": "1.5.0",
          "state": {
            "_model_module": "@jupyter-widgets/controls",
            "_model_module_version": "1.5.0",
            "_model_name": "ProgressStyleModel",
            "_view_count": null,
            "_view_module": "@jupyter-widgets/base",
            "_view_module_version": "1.2.0",
            "_view_name": "StyleView",
            "bar_color": null,
            "description_width": ""
          }
        },
        "b3aba38449324254932626bb3e6056af": {
          "model_module": "@jupyter-widgets/base",
          "model_name": "LayoutModel",
          "model_module_version": "1.2.0",
          "state": {
            "_model_module": "@jupyter-widgets/base",
            "_model_module_version": "1.2.0",
            "_model_name": "LayoutModel",
            "_view_count": null,
            "_view_module": "@jupyter-widgets/base",
            "_view_module_version": "1.2.0",
            "_view_name": "LayoutView",
            "align_content": null,
            "align_items": null,
            "align_self": null,
            "border": null,
            "bottom": null,
            "display": null,
            "flex": null,
            "flex_flow": null,
            "grid_area": null,
            "grid_auto_columns": null,
            "grid_auto_flow": null,
            "grid_auto_rows": null,
            "grid_column": null,
            "grid_gap": null,
            "grid_row": null,
            "grid_template_areas": null,
            "grid_template_columns": null,
            "grid_template_rows": null,
            "height": null,
            "justify_content": null,
            "justify_items": null,
            "left": null,
            "margin": null,
            "max_height": null,
            "max_width": null,
            "min_height": null,
            "min_width": null,
            "object_fit": null,
            "object_position": null,
            "order": null,
            "overflow": null,
            "overflow_x": null,
            "overflow_y": null,
            "padding": null,
            "right": null,
            "top": null,
            "visibility": null,
            "width": null
          }
        },
        "6c5aff2fb7c54d63b0ae6831b3cac83f": {
          "model_module": "@jupyter-widgets/controls",
          "model_name": "DescriptionStyleModel",
          "model_module_version": "1.5.0",
          "state": {
            "_model_module": "@jupyter-widgets/controls",
            "_model_module_version": "1.5.0",
            "_model_name": "DescriptionStyleModel",
            "_view_count": null,
            "_view_module": "@jupyter-widgets/base",
            "_view_module_version": "1.2.0",
            "_view_name": "StyleView",
            "description_width": ""
          }
        }
      }
    }
  },
  "nbformat": 4,
  "nbformat_minor": 0
}